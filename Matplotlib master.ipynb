{
 "cells": [
  {
   "cell_type": "code",
   "execution_count": 1,
   "metadata": {
    "collapsed": false
   },
   "outputs": [],
   "source": [
    "%matplotlib notebook"
   ]
  },
  {
   "cell_type": "markdown",
   "metadata": {},
   "source": [
    "This notebook requires the matplotib master branch (May 2016)\n",
    "\n",
    "New Widget based notebook backend by Steven Silvester."
   ]
  },
  {
   "cell_type": "code",
   "execution_count": 2,
   "metadata": {
    "collapsed": true
   },
   "outputs": [],
   "source": [
    "import matplotlib.pyplot as plt\n",
    "import numpy as np\n",
    "from ipywidgets import interact, fixed"
   ]
  },
  {
   "cell_type": "code",
   "execution_count": 3,
   "metadata": {
    "collapsed": false
   },
   "outputs": [
    {
     "data": {
      "text/plain": [
       "[<matplotlib.lines.Line2D at 0x107c55cc0>]"
      ]
     },
     "execution_count": 3,
     "metadata": {},
     "output_type": "execute_result"
    }
   ],
   "source": [
    "plt.plot(range(10))"
   ]
  },
  {
   "cell_type": "code",
   "execution_count": 5,
   "metadata": {
    "collapsed": true
   },
   "outputs": [],
   "source": [
    "def update_data(line, n, lw, marker, markevery):\n",
    "    line.set_ydata(x**n)\n",
    "    line.set_lw(lw)\n",
    "    line.set_markevery(markevery)\n",
    "    line.set_marker(marker)"
   ]
  },
  {
   "cell_type": "code",
   "execution_count": 6,
   "metadata": {
    "collapsed": false
   },
   "outputs": [],
   "source": [
    "fig, ax = plt.subplots(1,1)\n",
    "x = np.arange(0,10,0.01)\n",
    "y = x\n",
    "line, = ax.plot(x, y, lw=1, marker='s', markevery=10, markerfacecolor='C1', markeredgecolor='C1')\n",
    "w = interact(update_data, \n",
    "             line=fixed(line),\n",
    "             n=(0.,4.),\n",
    "             lw=(0.1,3.),\n",
    "             markevery=(1,100),\n",
    "             marker=('x','o','s'))"
   ]
  },
  {
   "cell_type": "markdown",
   "metadata": {
    "collapsed": true
   },
   "source": [
    "* Serialization & traitlets (Brian Granger / Ryan Morshead)\n",
    "No more getter setters (As above)\n",
    "* Replace Nose with PyTest\n",
    "* Refactoring of GUI code"
   ]
  },
  {
   "cell_type": "code",
   "execution_count": null,
   "metadata": {
    "collapsed": true
   },
   "outputs": [],
   "source": []
  }
 ],
 "metadata": {
  "kernelspec": {
   "display_name": "HomeBrew Python 3",
   "language": "python",
   "name": "homebrewpython3"
  },
  "language_info": {
   "codemirror_mode": {
    "name": "ipython",
    "version": 3
   },
   "file_extension": ".py",
   "mimetype": "text/x-python",
   "name": "python",
   "nbconvert_exporter": "python",
   "pygments_lexer": "ipython3",
   "version": "3.5.1"
  },
  "widgets": {
   "state": {
    "01ddeec15cef4e478d7d1e7939184793": {
     "views": []
    },
    "072638a3f4514a02abf030daf2b6af65": {
     "views": []
    },
    "1954bc6b7cb4463e91b8f67400bd8ea2": {
     "views": []
    },
    "1d5fa94119e8431b90255925492452ea": {
     "views": [
      {
       "cell_index": 5
      }
     ]
    },
    "1f7f5e41613d4c8eaaa9834666b66b0a": {
     "views": []
    },
    "2368e1bb58884f369a2b60f9937845e7": {
     "views": []
    },
    "2b43e2ec9b0c4432b172b11fe459846d": {
     "views": []
    },
    "2e72b19157b94173aff4d9a8f0a76c34": {
     "views": []
    },
    "33952467d0d04c7f9cd5f2cb4c55e8cc": {
     "views": [
      {
       "cell_index": 5
      }
     ]
    },
    "465558867a124df0ba90bc01b5cb018d": {
     "views": []
    },
    "58765b8f26894aeb9df3113fc3bd7a81": {
     "views": []
    },
    "640cdf6a6c12464696c48cd245649871": {
     "views": []
    },
    "6e60419c1d3e49feb7662119cec17508": {
     "views": []
    },
    "705eb072086b40808328e12a24e8a029": {
     "views": []
    },
    "748d5d92ae514e138165ec02fc682621": {
     "views": [
      {
       "cell_index": 5
      }
     ]
    },
    "74b509ca45194a9f9a475b05e551bfbf": {
     "views": []
    },
    "79ee93b2f7304a0cafd957e794f2d66d": {
     "views": []
    },
    "8f843ccc63114b9482fe0ef564fe3f1d": {
     "views": []
    },
    "90643291883a4cf2a1f8ab17353ca7cd": {
     "views": []
    },
    "9fb940355ed1438c8ffc78562fc9edae": {
     "views": []
    },
    "9fbe997983144ac49ed71abf7d974c52": {
     "views": []
    },
    "aaa000ee8f5e430b90b81670075e6160": {
     "views": [
      {
       "cell_index": 3
      }
     ]
    },
    "b156baa8ed6944b68ae277de317ce634": {
     "views": []
    },
    "b9096295ff084be8be4783555427ca02": {
     "views": []
    },
    "c3e857aa0f2b4426a4af1154da199780": {
     "views": []
    },
    "cb776c20fd554a3eab9b6e6796308d4a": {
     "views": []
    },
    "d29f0c7f71f94ad6a79488b72060954c": {
     "views": []
    },
    "e8cc3205046a4b129f91f912456c115b": {
     "views": []
    },
    "f04c2037a72848eea76169a7620be8b3": {
     "views": []
    },
    "f90dbdaa4f724440a089465447e0d16f": {
     "views": []
    },
    "fcee7e8882844eeebb69224814278d81": {
     "views": []
    },
    "fd5411bb2d3847e8b863d36f1ecf08b4": {
     "views": []
    }
   },
   "version": "1.1.1"
  }
 },
 "nbformat": 4,
 "nbformat_minor": 0
}
